{
 "cells": [
  {
   "cell_type": "code",
   "execution_count": 1,
   "id": "inside-mouth",
   "metadata": {
    "ExecuteTime": {
     "end_time": "2021-06-18T13:31:04.657851Z",
     "start_time": "2021-06-18T13:31:02.596858Z"
    }
   },
   "outputs": [
    {
     "data": {
      "text/html": [
       "<div>\n",
       "<style scoped>\n",
       "    .dataframe tbody tr th:only-of-type {\n",
       "        vertical-align: middle;\n",
       "    }\n",
       "\n",
       "    .dataframe tbody tr th {\n",
       "        vertical-align: top;\n",
       "    }\n",
       "\n",
       "    .dataframe thead th {\n",
       "        text-align: right;\n",
       "    }\n",
       "</style>\n",
       "<table border=\"1\" class=\"dataframe\">\n",
       "  <thead>\n",
       "    <tr style=\"text-align: right;\">\n",
       "      <th></th>\n",
       "      <th>review</th>\n",
       "      <th>sentiment</th>\n",
       "    </tr>\n",
       "  </thead>\n",
       "  <tbody>\n",
       "    <tr>\n",
       "      <th>0</th>\n",
       "      <td>One of the other reviewers has mentioned that ...</td>\n",
       "      <td>positive</td>\n",
       "    </tr>\n",
       "    <tr>\n",
       "      <th>1</th>\n",
       "      <td>A wonderful little production. &lt;br /&gt;&lt;br /&gt;The...</td>\n",
       "      <td>positive</td>\n",
       "    </tr>\n",
       "    <tr>\n",
       "      <th>2</th>\n",
       "      <td>I thought this was a wonderful way to spend ti...</td>\n",
       "      <td>positive</td>\n",
       "    </tr>\n",
       "    <tr>\n",
       "      <th>3</th>\n",
       "      <td>Basically there's a family where a little boy ...</td>\n",
       "      <td>negative</td>\n",
       "    </tr>\n",
       "    <tr>\n",
       "      <th>4</th>\n",
       "      <td>Petter Mattei's \"Love in the Time of Money\" is...</td>\n",
       "      <td>positive</td>\n",
       "    </tr>\n",
       "    <tr>\n",
       "      <th>...</th>\n",
       "      <td>...</td>\n",
       "      <td>...</td>\n",
       "    </tr>\n",
       "    <tr>\n",
       "      <th>49995</th>\n",
       "      <td>I thought this movie did a down right good job...</td>\n",
       "      <td>positive</td>\n",
       "    </tr>\n",
       "    <tr>\n",
       "      <th>49996</th>\n",
       "      <td>Bad plot, bad dialogue, bad acting, idiotic di...</td>\n",
       "      <td>negative</td>\n",
       "    </tr>\n",
       "    <tr>\n",
       "      <th>49997</th>\n",
       "      <td>I am a Catholic taught in parochial elementary...</td>\n",
       "      <td>negative</td>\n",
       "    </tr>\n",
       "    <tr>\n",
       "      <th>49998</th>\n",
       "      <td>I'm going to have to disagree with the previou...</td>\n",
       "      <td>negative</td>\n",
       "    </tr>\n",
       "    <tr>\n",
       "      <th>49999</th>\n",
       "      <td>No one expects the Star Trek movies to be high...</td>\n",
       "      <td>negative</td>\n",
       "    </tr>\n",
       "  </tbody>\n",
       "</table>\n",
       "<p>50000 rows × 2 columns</p>\n",
       "</div>"
      ],
      "text/plain": [
       "                                                  review sentiment\n",
       "0      One of the other reviewers has mentioned that ...  positive\n",
       "1      A wonderful little production. <br /><br />The...  positive\n",
       "2      I thought this was a wonderful way to spend ti...  positive\n",
       "3      Basically there's a family where a little boy ...  negative\n",
       "4      Petter Mattei's \"Love in the Time of Money\" is...  positive\n",
       "...                                                  ...       ...\n",
       "49995  I thought this movie did a down right good job...  positive\n",
       "49996  Bad plot, bad dialogue, bad acting, idiotic di...  negative\n",
       "49997  I am a Catholic taught in parochial elementary...  negative\n",
       "49998  I'm going to have to disagree with the previou...  negative\n",
       "49999  No one expects the Star Trek movies to be high...  negative\n",
       "\n",
       "[50000 rows x 2 columns]"
      ]
     },
     "execution_count": 1,
     "metadata": {},
     "output_type": "execute_result"
    }
   ],
   "source": [
    "import pandas as pd\n",
    "import numpy as np\n",
    "import warnings\n",
    "\n",
    "dataset = pd.read_csv('IMDB Dataset.csv')\n",
    "dataset\n",
    "# warnings.filterwarnings('ignore')"
   ]
  },
  {
   "cell_type": "code",
   "execution_count": 2,
   "id": "everyday-melissa",
   "metadata": {
    "ExecuteTime": {
     "end_time": "2021-06-18T13:31:04.688608Z",
     "start_time": "2021-06-18T13:31:04.657851Z"
    }
   },
   "outputs": [
    {
     "data": {
      "text/plain": [
       "positive    25000\n",
       "negative    25000\n",
       "Name: sentiment, dtype: int64"
      ]
     },
     "execution_count": 2,
     "metadata": {},
     "output_type": "execute_result"
    }
   ],
   "source": [
    "dataset.sentiment.value_counts()"
   ]
  },
  {
   "cell_type": "code",
   "execution_count": 3,
   "id": "daily-pastor",
   "metadata": {
    "ExecuteTime": {
     "end_time": "2021-06-18T13:31:06.754478Z",
     "start_time": "2021-06-18T13:31:04.692607Z"
    }
   },
   "outputs": [
    {
     "name": "stderr",
     "output_type": "stream",
     "text": [
      "C:\\Users\\ka_ya\\AppData\\Local\\Programs\\Python\\Python310\\lib\\site-packages\\seaborn\\_decorators.py:36: FutureWarning: Pass the following variable as a keyword arg: x. From version 0.12, the only valid positional argument will be `data`, and passing other arguments without an explicit keyword will result in an error or misinterpretation.\n",
      "  warnings.warn(\n"
     ]
    },
    {
     "data": {
      "text/plain": [
       "<AxesSubplot:xlabel='sentiment', ylabel='count'>"
      ]
     },
     "execution_count": 3,
     "metadata": {},
     "output_type": "execute_result"
    },
    {
     "data": {
      "image/png": "[encoded data removed]",
      "text/plain": [
       "<Figure size 432x288 with 1 Axes>"
      ]
     },
     "metadata": {
      "needs_background": "light"
     },
     "output_type": "display_data"
    }
   ],
   "source": [
    "import seaborn as sns\n",
    "sns.countplot(dataset.sentiment)"
   ]
  },
  {
   "cell_type": "code",
   "execution_count": 4,
   "id": "returning-excuse",
   "metadata": {
    "ExecuteTime": {
     "end_time": "2021-06-18T13:31:22.633821Z",
     "start_time": "2021-06-18T13:31:06.758475Z"
    }
   },
   "outputs": [
    {
     "name": "stderr",
     "output_type": "stream",
     "text": [
      "C:\\Users\\ka_ya\\AppData\\Local\\Programs\\Python\\Python310\\lib\\site-packages\\bs4\\__init__.py:435: MarkupResemblesLocatorWarning: The input looks more like a filename than markup. You may want to open this file and pass the filehandle into Beautiful Soup.\n",
      "  warnings.warn(\n"
     ]
    },
    {
     "data": {
      "text/html": [
       "<div>\n",
       "<style scoped>\n",
       "    .dataframe tbody tr th:only-of-type {\n",
       "        vertical-align: middle;\n",
       "    }\n",
       "\n",
       "    .dataframe tbody tr th {\n",
       "        vertical-align: top;\n",
       "    }\n",
       "\n",
       "    .dataframe thead th {\n",
       "        text-align: right;\n",
       "    }\n",
       "</style>\n",
       "<table border=\"1\" class=\"dataframe\">\n",
       "  <thead>\n",
       "    <tr style=\"text-align: right;\">\n",
       "      <th></th>\n",
       "      <th>review</th>\n",
       "      <th>sentiment</th>\n",
       "    </tr>\n",
       "  </thead>\n",
       "  <tbody>\n",
       "    <tr>\n",
       "      <th>0</th>\n",
       "      <td>one of the other reviewers has mentioned that ...</td>\n",
       "      <td>positive</td>\n",
       "    </tr>\n",
       "    <tr>\n",
       "      <th>1</th>\n",
       "      <td>a wonderful little production. the filming tec...</td>\n",
       "      <td>positive</td>\n",
       "    </tr>\n",
       "    <tr>\n",
       "      <th>2</th>\n",
       "      <td>i thought this was a wonderful way to spend ti...</td>\n",
       "      <td>positive</td>\n",
       "    </tr>\n",
       "    <tr>\n",
       "      <th>3</th>\n",
       "      <td>basically there's a family where a little boy ...</td>\n",
       "      <td>negative</td>\n",
       "    </tr>\n",
       "    <tr>\n",
       "      <th>4</th>\n",
       "      <td>petter mattei's \"love in the time of money\" is...</td>\n",
       "      <td>positive</td>\n",
       "    </tr>\n",
       "    <tr>\n",
       "      <th>...</th>\n",
       "      <td>...</td>\n",
       "      <td>...</td>\n",
       "    </tr>\n",
       "    <tr>\n",
       "      <th>49995</th>\n",
       "      <td>i thought this movie did a down right good job...</td>\n",
       "      <td>positive</td>\n",
       "    </tr>\n",
       "    <tr>\n",
       "      <th>49996</th>\n",
       "      <td>bad plot, bad dialogue, bad acting, idiotic di...</td>\n",
       "      <td>negative</td>\n",
       "    </tr>\n",
       "    <tr>\n",
       "      <th>49997</th>\n",
       "      <td>i am a catholic taught in parochial elementary...</td>\n",
       "      <td>negative</td>\n",
       "    </tr>\n",
       "    <tr>\n",
       "      <th>49998</th>\n",
       "      <td>i'm going to have to disagree with the previou...</td>\n",
       "      <td>negative</td>\n",
       "    </tr>\n",
       "    <tr>\n",
       "      <th>49999</th>\n",
       "      <td>no one epects the star trek movies to be high ...</td>\n",
       "      <td>negative</td>\n",
       "    </tr>\n",
       "  </tbody>\n",
       "</table>\n",
       "<p>50000 rows × 2 columns</p>\n",
       "</div>"
      ],
      "text/plain": [
       "                                                  review sentiment\n",
       "0      one of the other reviewers has mentioned that ...  positive\n",
       "1      a wonderful little production. the filming tec...  positive\n",
       "2      i thought this was a wonderful way to spend ti...  positive\n",
       "3      basically there's a family where a little boy ...  negative\n",
       "4      petter mattei's \"love in the time of money\" is...  positive\n",
       "...                                                  ...       ...\n",
       "49995  i thought this movie did a down right good job...  positive\n",
       "49996  bad plot, bad dialogue, bad acting, idiotic di...  negative\n",
       "49997  i am a catholic taught in parochial elementary...  negative\n",
       "49998  i'm going to have to disagree with the previou...  negative\n",
       "49999  no one epects the star trek movies to be high ...  negative\n",
       "\n",
       "[50000 rows x 2 columns]"
      ]
     },
     "execution_count": 4,
     "metadata": {},
     "output_type": "execute_result"
    }
   ],
   "source": [
    "from bs4 import BeautifulSoup\n",
    "import re\n",
    "def cleanText(text):\n",
    "    text = BeautifulSoup(text, \"lxml\").text\n",
    "    text = re.sub(r'\\|\\|\\|', r' ', text) \n",
    "    text = re.sub(r'http\\S+', r'<URL>', text)\n",
    "    text = text.lower()\n",
    "    text = text.replace('x', '')\n",
    "    return text\n",
    "\n",
    "dataset['review'] = dataset['review'].apply(cleanText)\n",
    "dataset"
   ]
  },
  {
   "cell_type": "code",
   "execution_count": 5,
   "id": "smart-relation",
   "metadata": {
    "ExecuteTime": {
     "end_time": "2021-06-18T13:32:50.803314Z",
     "start_time": "2021-06-18T13:31:22.635819Z"
    }
   },
   "outputs": [
    {
     "name": "stderr",
     "output_type": "stream",
     "text": [
      "[nltk_data] Downloading package punkt to\n",
      "[nltk_data]     C:\\Users\\ka_ya\\AppData\\Roaming\\nltk_data...\n",
      "[nltk_data]   Package punkt is already up-to-date!\n"
     ]
    }
   ],
   "source": [
    "corpus = []\n",
    "import nltk\n",
    "nltk.download('punkt')\n",
    "from nltk.tokenize import word_tokenize\n",
    "for text in dataset['review']:\n",
    "    words = [word.lower() for word in word_tokenize(text)] \n",
    "    corpus.append(words)\n",
    "    \n",
    "num_words = len(corpus)\n"
   ]
  },
  {
   "cell_type": "code",
   "execution_count": 6,
   "id": "sunrise-aerospace",
   "metadata": {
    "ExecuteTime": {
     "end_time": "2021-06-18T13:32:50.866773Z",
     "start_time": "2021-06-18T13:32:50.806318Z"
    }
   },
   "outputs": [],
   "source": [
    "from sklearn.preprocessing import LabelEncoder\n",
    "from sklearn.model_selection import train_test_split\n",
    "\n",
    "le = LabelEncoder()\n",
    "training_reviews,testing_reviews,training_labels,testing_labels  = train_test_split(dataset['review'].values,dataset['sentiment'].values,test_size = 0.2)\n",
    "training_labels = le.fit_transform(training_labels)\n",
    "testing_labels = le.fit_transform(testing_labels)"
   ]
  },
  {
   "cell_type": "code",
   "execution_count": 7,
   "id": "anticipated-continent",
   "metadata": {
    "ExecuteTime": {
     "end_time": "2021-06-18T13:33:12.225891Z",
     "start_time": "2021-06-18T13:32:50.870775Z"
    }
   },
   "outputs": [
    {
     "name": "stdout",
     "output_type": "stream",
     "text": [
      "Found unique tokens: 113698\n"
     ]
    }
   ],
   "source": [
    "from tensorflow.keras.preprocessing.text import Tokenizer\n",
    "from tensorflow.keras.preprocessing.sequence import pad_sequences\n",
    "\n",
    "tokenizer = Tokenizer(num_words=10000,oov_token='<OOV>')\n",
    "tokenizer.fit_on_texts(training_reviews)\n",
    "word_index = tokenizer.word_index\n",
    "training_sequence = tokenizer.texts_to_sequences(training_reviews)\n",
    "testing_sequence = tokenizer.texts_to_sequences(testing_reviews)\n",
    "train_pad_sequence = pad_sequences(training_sequence,maxlen = 200,truncating= 'post',padding = 'pre')\n",
    "test_pad_sequence = pad_sequences(testing_sequence,maxlen = 200,truncating= 'post',padding = 'pre')\n",
    "print('Found unique tokens: {}'.format(len(word_index)))"
   ]
  },
  {
   "cell_type": "code",
   "execution_count": 8,
   "id": "integral-sixth",
   "metadata": {
    "ExecuteTime": {
     "end_time": "2021-06-18T13:33:40.244697Z",
     "start_time": "2021-06-18T13:33:12.229936Z"
    }
   },
   "outputs": [],
   "source": [
    "embedded_words = {}\n",
    "with open('glove.6B.200d.txt', encoding=\"utf8\") as file:\n",
    "    for line in file:\n",
    "        words, coeff = line.split(maxsplit=1)\n",
    "        coeff = np.array(coeff.split(),dtype = float)\n",
    "        embedded_words[words] = coeff"
   ]
  },
  {
   "cell_type": "code",
   "execution_count": 9,
   "id": "colonial-subscription",
   "metadata": {
    "ExecuteTime": {
     "end_time": "2021-06-18T13:33:40.449465Z",
     "start_time": "2021-06-18T13:33:40.247686Z"
    }
   },
   "outputs": [],
   "source": [
    "embedding_matrix = np.zeros((len(word_index) + 1,200))\n",
    "for word, i in word_index.items():\n",
    "    embedding_vector = embedded_words.get(word)\n",
    "    if embedding_vector is not None:\n",
    "        embedding_matrix[i] = embedding_vector"
   ]
  },
  {
   "cell_type": "code",
   "execution_count": 10,
   "id": "pharmaceutical-foundation",
   "metadata": {
    "ExecuteTime": {
     "end_time": "2021-06-18T13:33:41.675079Z",
     "start_time": "2021-06-18T13:33:40.451467Z"
    }
   },
   "outputs": [
    {
     "name": "stdout",
     "output_type": "stream",
     "text": [
      "Model: \"sequential\"\n",
      "_________________________________________________________________\n",
      " Layer (type)                Output Shape              Param #   \n",
      "=================================================================\n",
      " embedding (Embedding)       (None, 200, 200)          22739800  \n",
      "                                                                 \n",
      " bidirectional (Bidirectiona  (None, 128)              135680    \n",
      " l)                                                              \n",
      "                                                                 \n",
      " dropout (Dropout)           (None, 128)               0         \n",
      "                                                                 \n",
      " dense (Dense)               (None, 256)               33024     \n",
      "                                                                 \n",
      " dense_1 (Dense)             (None, 128)               32896     \n",
      "                                                                 \n",
      " dropout_1 (Dropout)         (None, 128)               0         \n",
      "                                                                 \n",
      " dense_2 (Dense)             (None, 1)                 129       \n",
      "                                                                 \n",
      "=================================================================\n",
      "Total params: 22,941,529\n",
      "Trainable params: 201,729\n",
      "Non-trainable params: 22,739,800\n",
      "_________________________________________________________________\n"
     ]
    }
   ],
   "source": [
    "import tensorflow as tf\n",
    "\n",
    "model = tf.keras.Sequential([tf.keras.layers.Embedding(len(word_index) + 1,200,weights=[embedding_matrix],input_length=200,\n",
    "                            trainable=False),\n",
    "                             tf.keras.layers.Bidirectional(tf.keras.layers.LSTM(64)),\n",
    "                             tf.keras.layers.Dropout(0.5),\n",
    "                             tf.keras.layers.Dense(256,activation = 'relu',),\n",
    "                             tf.keras.layers.Dense(128,activation = 'relu'),\n",
    "                             tf.keras.layers.Dropout(0.5),\n",
    "                             tf.keras.layers.Dense(1,activation = tf.nn.sigmoid)])\n",
    "model.summary()\n"
   ]
  },
  {
   "cell_type": "code",
   "execution_count": 11,
   "id": "polyphonic-revelation",
   "metadata": {
    "ExecuteTime": {
     "end_time": "2021-06-18T15:19:20.374308Z",
     "start_time": "2021-06-18T13:33:41.678075Z"
    }
   },
   "outputs": [
    {
     "name": "stdout",
     "output_type": "stream",
     "text": [
      "Epoch 1/30\n",
      "1250/1250 [==============================] - 177s 137ms/step - loss: 0.5168 - accuracy: 0.7446 - val_loss: 0.4022 - val_accuracy: 0.8213\n",
      "Epoch 2/30\n",
      "1250/1250 [==============================] - 171s 137ms/step - loss: 0.3708 - accuracy: 0.8387 - val_loss: 0.3389 - val_accuracy: 0.8562\n",
      "Epoch 3/30\n",
      "1250/1250 [==============================] - 169s 135ms/step - loss: 0.3322 - accuracy: 0.8605 - val_loss: 0.3381 - val_accuracy: 0.8568\n",
      "Epoch 4/30\n",
      "1250/1250 [==============================] - 180s 144ms/step - loss: 0.3046 - accuracy: 0.8730 - val_loss: 0.3243 - val_accuracy: 0.8611\n",
      "Epoch 5/30\n",
      "1250/1250 [==============================] - 217s 174ms/step - loss: 0.2841 - accuracy: 0.8828 - val_loss: 0.3214 - val_accuracy: 0.8569\n",
      "Epoch 6/30\n",
      "1250/1250 [==============================] - 161s 129ms/step - loss: 0.2617 - accuracy: 0.8935 - val_loss: 0.2965 - val_accuracy: 0.8773\n",
      "Epoch 7/30\n",
      "1250/1250 [==============================] - 152s 121ms/step - loss: 0.2411 - accuracy: 0.9014 - val_loss: 0.3160 - val_accuracy: 0.8696\n",
      "Epoch 8/30\n",
      "1250/1250 [==============================] - 155s 124ms/step - loss: 0.2195 - accuracy: 0.9125 - val_loss: 0.3120 - val_accuracy: 0.8675\n",
      "Epoch 9/30\n",
      "1250/1250 [==============================] - 153s 122ms/step - loss: 0.2010 - accuracy: 0.9200 - val_loss: 0.3160 - val_accuracy: 0.8777\n",
      "Epoch 10/30\n",
      "1250/1250 [==============================] - 150s 120ms/step - loss: 0.1791 - accuracy: 0.9290 - val_loss: 0.3326 - val_accuracy: 0.8697\n",
      "Epoch 11/30\n",
      "1250/1250 [==============================] - 145s 116ms/step - loss: 0.1611 - accuracy: 0.9373 - val_loss: 0.3595 - val_accuracy: 0.8737\n",
      "Epoch 12/30\n",
      "1250/1250 [==============================] - 146s 117ms/step - loss: 0.1449 - accuracy: 0.9442 - val_loss: 0.3757 - val_accuracy: 0.8734\n",
      "Epoch 13/30\n",
      "1250/1250 [==============================] - 145s 116ms/step - loss: 0.1307 - accuracy: 0.9511 - val_loss: 0.3614 - val_accuracy: 0.8742\n",
      "Epoch 14/30\n",
      "1250/1250 [==============================] - 152s 122ms/step - loss: 0.1142 - accuracy: 0.9566 - val_loss: 0.4039 - val_accuracy: 0.8678\n",
      "Epoch 15/30\n",
      "1250/1250 [==============================] - 147s 118ms/step - loss: 0.1066 - accuracy: 0.9607 - val_loss: 0.4414 - val_accuracy: 0.8665\n",
      "Epoch 16/30\n",
      "1250/1250 [==============================] - 147s 118ms/step - loss: 0.0944 - accuracy: 0.9660 - val_loss: 0.4442 - val_accuracy: 0.8709\n",
      "Epoch 17/30\n",
      "1250/1250 [==============================] - 147s 118ms/step - loss: 0.0827 - accuracy: 0.9701 - val_loss: 0.5281 - val_accuracy: 0.8588\n",
      "Epoch 18/30\n",
      "1250/1250 [==============================] - 148s 118ms/step - loss: 0.0807 - accuracy: 0.9705 - val_loss: 0.5285 - val_accuracy: 0.8661\n",
      "Epoch 19/30\n",
      "1250/1250 [==============================] - 148s 118ms/step - loss: 0.0700 - accuracy: 0.9752 - val_loss: 0.5485 - val_accuracy: 0.8684\n",
      "Epoch 20/30\n",
      "1250/1250 [==============================] - 157s 126ms/step - loss: 0.0601 - accuracy: 0.9780 - val_loss: 0.5790 - val_accuracy: 0.8649\n",
      "Epoch 21/30\n",
      "1250/1250 [==============================] - 148s 118ms/step - loss: 0.0596 - accuracy: 0.9783 - val_loss: 0.6338 - val_accuracy: 0.8662\n",
      "Epoch 22/30\n",
      "1250/1250 [==============================] - 152s 121ms/step - loss: 0.0519 - accuracy: 0.9816 - val_loss: 0.7602 - val_accuracy: 0.8641\n",
      "Epoch 23/30\n",
      "1250/1250 [==============================] - 150s 120ms/step - loss: 0.0552 - accuracy: 0.9817 - val_loss: 0.5947 - val_accuracy: 0.8656\n",
      "Epoch 24/30\n",
      "1250/1250 [==============================] - 153s 122ms/step - loss: 0.0464 - accuracy: 0.9842 - val_loss: 0.5608 - val_accuracy: 0.8616\n",
      "Epoch 25/30\n",
      "1250/1250 [==============================] - 152s 121ms/step - loss: 0.0466 - accuracy: 0.9833 - val_loss: 0.6294 - val_accuracy: 0.8729\n",
      "Epoch 26/30\n",
      "1250/1250 [==============================] - 149s 119ms/step - loss: 0.0422 - accuracy: 0.9856 - val_loss: 0.6516 - val_accuracy: 0.8661\n",
      "Epoch 27/30\n",
      "1250/1250 [==============================] - 156s 125ms/step - loss: 0.0423 - accuracy: 0.9858 - val_loss: 0.6404 - val_accuracy: 0.8619\n",
      "Epoch 28/30\n",
      "1250/1250 [==============================] - 149s 119ms/step - loss: 0.0384 - accuracy: 0.9866 - val_loss: 0.6854 - val_accuracy: 0.8694\n",
      "Epoch 29/30\n",
      "1250/1250 [==============================] - 149s 120ms/step - loss: 0.0372 - accuracy: 0.9878 - val_loss: 0.8005 - val_accuracy: 0.8701\n",
      "Epoch 30/30\n",
      "1250/1250 [==============================] - 151s 120ms/step - loss: 0.0347 - accuracy: 0.9880 - val_loss: 0.7554 - val_accuracy: 0.8726\n"
     ]
    }
   ],
   "source": [
    "model.compile(loss = tf.keras.losses.BinaryCrossentropy() , optimizer='Adam' , metrics = 'accuracy')\n",
    "history = model.fit(train_pad_sequence,training_labels,epochs = 30 ,validation_data=(test_pad_sequence,testing_labels))"
   ]
  },
  {
   "cell_type": "code",
   "execution_count": 12,
   "id": "applicable-mongolia",
   "metadata": {
    "ExecuteTime": {
     "end_time": "2021-06-18T15:19:21.542448Z",
     "start_time": "2021-06-18T15:19:20.388300Z"
    }
   },
   "outputs": [
    {
     "data": {
      "image/png": "[encoded data removed]",
      "text/plain": [
       "<Figure size 432x288 with 1 Axes>"
      ]
     },
     "metadata": {
      "needs_background": "light"
     },
     "output_type": "display_data"
    },
    {
     "data": {
      "image/png": "[encoded data removed]",
      "text/plain": [
       "<Figure size 432x288 with 1 Axes>"
      ]
     },
     "metadata": {
      "needs_background": "light"
     },
     "output_type": "display_data"
    }
   ],
   "source": [
    "import matplotlib.pyplot as plt\n",
    "\n",
    "acc = history.history['accuracy']\n",
    "val_acc = history.history['val_accuracy']\n",
    "loss = history.history['loss']\n",
    "val_loss = history.history['val_loss']\n",
    "epochs = range(len(acc))\n",
    "\n",
    "plt.plot(epochs, acc, 'r', label='Training accuracy')\n",
    "plt.plot(epochs, val_acc, 'b', label='Validation accuracy')\n",
    "plt.title('Training and validation accuracy')\n",
    "plt.legend(loc=0)\n",
    "plt.figure()\n",
    "\n",
    "plt.plot(epochs, loss, 'r', label='Training loss')\n",
    "plt.plot(epochs, val_loss, 'b', label='Validation loss')\n",
    "plt.title('Training and validation loss')\n",
    "plt.legend(loc=0)\n",
    "\n",
    "plt.show()"
   ]
  },
  {
   "cell_type": "code",
   "execution_count": 13,
   "id": "convertible-comparative",
   "metadata": {
    "ExecuteTime": {
     "end_time": "2021-06-18T15:19:21.558440Z",
     "start_time": "2021-06-18T15:19:21.546446Z"
    }
   },
   "outputs": [
    {
     "name": "stdout",
     "output_type": "stream",
     "text": [
      "Training Accuracy: 0.9880499839782715\n",
      "Validation Accuracy: 0.8776999711990356\n"
     ]
    }
   ],
   "source": [
    "print('Training Accuracy: {}'.format(max(acc)))\n",
    "print('Validation Accuracy: {}'.format(max(val_acc)))"
   ]
  },
  {
   "cell_type": "code",
   "execution_count": 14,
   "id": "intelligent-methodology",
   "metadata": {
    "ExecuteTime": {
     "end_time": "2021-06-18T19:05:44.475454Z",
     "start_time": "2021-06-18T19:05:44.464460Z"
    }
   },
   "outputs": [],
   "source": [
    "def get_result(txt):\n",
    "    seq = tokenizer.texts_to_sequences(txt)\n",
    "    padded = pad_sequences(seq, maxlen=200, dtype='int32', value=0)\n",
    "    pred = model.predict(padded)\n",
    "    print(pred)\n",
    "    labels = [0,1]\n",
    "    result = labels[round(pred[0][0])]\n",
    "    result_dict = {0: 'negative', 1: 'positive'}\n",
    "    print(result)\n",
    "    return result_dict[result]\n"
   ]
  },
  {
   "cell_type": "code",
   "execution_count": 15,
   "id": "legendary-badge",
   "metadata": {
    "ExecuteTime": {
     "end_time": "2021-06-18T19:05:45.666018Z",
     "start_time": "2021-06-18T19:05:45.575032Z"
    }
   },
   "outputs": [
    {
     "name": "stdout",
     "output_type": "stream",
     "text": [
      "1/1 [==============================] - 1s 1s/step\n",
      "[[0.0053707]]\n",
      "0\n"
     ]
    },
    {
     "data": {
      "text/plain": [
       "'negative'"
      ]
     },
     "execution_count": 15,
     "metadata": {},
     "output_type": "execute_result"
    }
   ],
   "source": [
    "m = \"This movie was not good at all. It had some good parts like the acting was pretty good but the story was not impressing at all.\"\n",
    "get_result([m])"
   ]
  },
  {
   "cell_type": "code",
   "execution_count": 16,
   "id": "norwegian-rendering",
   "metadata": {
    "ExecuteTime": {
     "end_time": "2021-06-18T19:05:46.606916Z",
     "start_time": "2021-06-18T19:05:46.522571Z"
    },
    "tags": []
   },
   "outputs": [
    {
     "name": "stdout",
     "output_type": "stream",
     "text": [
      "1/1 [==============================] - 0s 36ms/step\n",
      "[[0.9956735]]\n",
      "1\n"
     ]
    },
    {
     "data": {
      "text/plain": [
       "'positive'"
      ]
     },
     "execution_count": 16,
     "metadata": {},
     "output_type": "execute_result"
    }
   ],
   "source": [
    "m = \"I can watch this movie forever just because of the beauty in its cinematography.\"\n",
    "get_result([m])"
   ]
  },
  {
   "cell_type": "code",
   "execution_count": 17,
   "id": "advised-inventory",
   "metadata": {
    "ExecuteTime": {
     "end_time": "2021-06-18T19:05:47.452250Z",
     "start_time": "2021-06-18T19:05:47.438238Z"
    }
   },
   "outputs": [],
   "source": [
    "import tweepy as tw\n",
    "# from tweepy import OAuthHandler\n",
    "bearer_token = \"AAAAAAAAAAAAAAAAAAAAALaldgEAAAAAcqfFwbU6d3dcjZdix0LXufZUBBs%3DrQ8aT9ewhYZ1ETk6OJYXOkgn0CIIa3SL6mHwo8BIO3O3MmbSkE\""
   ]
  },
  {
   "cell_type": "code",
   "execution_count": 18,
   "id": "champion-closer",
   "metadata": {
    "ExecuteTime": {
     "end_time": "2021-06-18T19:05:49.049181Z",
     "start_time": "2021-06-18T19:05:49.043184Z"
    }
   },
   "outputs": [],
   "source": [
    "try:\n",
    "#     auth = tw.OAuth1UserHandler(consumer_key, consumer_secret)\n",
    "#     auth.set_access_token(access_token, access_token_secret)\n",
    "#     api = tw.API(auth)\n",
    "    \n",
    "#     auth = tw.OAuth1UserHandler(consumer_key, consumer_secret, access_token, access_token_secret)\n",
    "#     api = tw.API(auth)\n",
    "    \n",
    "    auth = tw.OAuth2BearerHandler(bearer_token)\n",
    "    api = tw.API(auth)\n",
    "    \n",
    "except:\n",
    "    print(\"Error: Authentication Failed\")"
   ]
  },
  {
   "cell_type": "code",
   "execution_count": 19,
   "id": "functional-exception",
   "metadata": {
    "ExecuteTime": {
     "end_time": "2021-06-18T19:05:49.822230Z",
     "start_time": "2021-06-18T19:05:49.811216Z"
    }
   },
   "outputs": [],
   "source": [
    "def percentage(part,whole):\n",
    "    return 100 * float(part)/float(whole)"
   ]
  },
  {
   "cell_type": "code",
   "execution_count": 20,
   "id": "sudden-happening",
   "metadata": {
    "ExecuteTime": {
     "end_time": "2021-06-18T19:05:50.608743Z",
     "start_time": "2021-06-18T19:05:50.595769Z"
    }
   },
   "outputs": [],
   "source": [
    "def isEnglish(text):\n",
    "    try:\n",
    "        text.encode(encoding='utf-8').decode('ascii')\n",
    "    except UnicodeDecodeError:\n",
    "        return False\n",
    "    else:\n",
    "        return True"
   ]
  },
  {
   "cell_type": "code",
   "execution_count": 21,
   "id": "narrow-foundation",
   "metadata": {
    "ExecuteTime": {
     "end_time": "2021-06-18T19:05:51.763438Z",
     "start_time": "2021-06-18T19:05:51.751448Z"
    }
   },
   "outputs": [
    {
     "data": {
      "text/plain": [
       "'2022-06-18'"
      ]
     },
     "execution_count": 21,
     "metadata": {},
     "output_type": "execute_result"
    }
   ],
   "source": [
    "from datetime import datetime, timedelta\n",
    "\n",
    "now = datetime.today().now()\n",
    "prev=now-timedelta(days=1)\n",
    "now=now.strftime(\"%Y-%m-%d\")\n",
    "prev=prev.strftime(\"%Y-%m-%d\")\n",
    "prev"
   ]
  },
  {
   "cell_type": "code",
   "execution_count": 22,
   "id": "postal-tooth",
   "metadata": {
    "ExecuteTime": {
     "end_time": "2021-06-18T19:05:52.688436Z",
     "start_time": "2021-06-18T19:05:52.675444Z"
    }
   },
   "outputs": [
    {
     "name": "stderr",
     "output_type": "stream",
     "text": [
      "[nltk_data] Downloading package stopwords to\n",
      "[nltk_data]     C:\\Users\\ka_ya\\AppData\\Roaming\\nltk_data...\n",
      "[nltk_data]   Package stopwords is already up-to-date!\n"
     ]
    }
   ],
   "source": [
    "import nltk\n",
    "nltk.download('stopwords')\n",
    "from nltk.corpus import stopwords\n",
    "from nltk.tokenize import word_tokenize\n",
    "from nltk.stem import PorterStemmer\n",
    "from nltk.stem import WordNetLemmatizer\n",
    "import re\n",
    "\n",
    "stop_words = set(stopwords.words('english'))\n",
    "\n",
    "def preprocess_text(text):\n",
    "    \n",
    "    text.lower()\n",
    "    # Remove urls\n",
    "    text = re.sub(r\"http\\S+|www\\S+|https\\S+\", '', text, flags=re.MULTILINE)\n",
    "    # Remove user @ references and '#' from tweet\n",
    "    text = re.sub(r'\\@\\w+|\\#','', text)\n",
    "    # Remove punctuations\n",
    "    #text = text.translate(str.maketrans('', '', string.punctuation))\n",
    "    # Remove stopwords\n",
    "    text_tokens = word_tokenize(text)\n",
    "    filtered_words = [w for w in text_tokens if not w in stop_words]\n",
    "    \n",
    "    #ps = PorterStemmer()\n",
    "    #stemmed_words = [ps.stem(w) for w in filtered_words]\n",
    "    #lemmatizer = WordNetLemmatizer()\n",
    "    #lemma_words = [lemmatizer.lemmatize(w, pos='a') for w in stemmed_words]\n",
    "    \n",
    "    \n",
    "    \n",
    "    return \" \".join(filtered_words)"
   ]
  },
  {
   "cell_type": "code",
   "execution_count": 23,
   "id": "invisible-sound",
   "metadata": {
    "ExecuteTime": {
     "end_time": "2021-06-18T19:05:53.766346Z",
     "start_time": "2021-06-18T19:05:53.755351Z"
    }
   },
   "outputs": [],
   "source": [
    "def get_tweets(query, count):\n",
    "    tweets = []\n",
    "    query = query + \" -filter:retweets\"\n",
    "    \n",
    "    try:\n",
    "        fetched_tweets = tw.Cursor(api.search_tweets, \n",
    "                                   q = query, \n",
    "                                   lang = 'en',\n",
    "                                  since = prev,\n",
    "                                  until = now).items(count)\n",
    "        #api.search(q = query, count = count, lang = 'en')\n",
    "        \n",
    "        for tweet in fetched_tweets:\n",
    "            parsed_tweet = {}\n",
    "            print(tweet.text)\n",
    "            if isEnglish(tweet.text) == True:\n",
    "                parsed_tweet['text'] = preprocess_text(tweet.text)\n",
    "                parsed_tweet['sentiment'] = get_result([preprocess_text(tweet.text)])\n",
    "            \n",
    "                if tweet.retweet_count > 0:\n",
    "                    if parsed_tweet not in tweets:\n",
    "                        tweets.append(parsed_tweet)\n",
    "                    \n",
    "                else:\n",
    "                    tweets.append(parsed_tweet)\n",
    "                \n",
    "        return tweets\n",
    "    \n",
    "    except AttributeError as e:\n",
    "        print(\"Error : \" + str(e))\n",
    "        "
   ]
  },
  {
   "cell_type": "code",
   "execution_count": 45,
   "id": "overhead-january",
   "metadata": {
    "ExecuteTime": {
     "end_time": "2021-06-18T19:06:13.512602Z",
     "start_time": "2021-06-18T19:06:05.180618Z"
    }
   },
   "outputs": [
    {
     "name": "stdin",
     "output_type": "stream",
     "text": [
      "Enter key or hashtag to search about:  Lightyear\n",
      "Enter how many tweets to analyze:  100\n"
     ]
    }
   ],
   "source": [
    "key = \"#\" + input (\"Enter key or hashtag to search about: \")\n",
    "numberOfTweets = int(input(\"Enter how many tweets to analyze: \"))"
   ]
  },
  {
   "cell_type": "code",
   "execution_count": 46,
   "id": "alone-first",
   "metadata": {
    "ExecuteTime": {
     "end_time": "2021-06-18T19:06:28.287022Z",
     "start_time": "2021-06-18T19:06:18.718105Z"
    }
   },
   "outputs": [
    {
     "name": "stderr",
     "output_type": "stream",
     "text": [
      "Unexpected parameter: since\n"
     ]
    },
    {
     "name": "stdout",
     "output_type": "stream",
     "text": [
      "Do I see #Lightyear in theaters or wait for it to hit Dizz Dizz Plus?\n",
      "1/1 [==============================] - 0s 31ms/step\n",
      "[[0.94481516]]\n",
      "1\n",
      "Today I'm going to see #Lightyear https://t.co/qCCk8U6OVn\n",
      "1/1 [==============================] - 0s 25ms/step\n",
      "[[0.99867254]]\n",
      "1\n",
      "Lightyear is a better version of interstellar #Lightyear\n",
      "1/1 [==============================] - 0s 26ms/step\n",
      "[[0.76340145]]\n",
      "1\n",
      "#Lightyear was so good ahhhhh my heart 💚💜\n",
      "My week is free. Anyone want to see the new #Lightyear movie with me.\n",
      "1/1 [==============================] - 0s 28ms/step\n",
      "[[0.9788121]]\n",
      "1\n",
      "\"I'm supposed to be like my grandma\"\n",
      "\n",
      "'No, you're Izzy!' shouts a little girl from the audience. #Lightyear\n",
      "1/1 [==============================] - 0s 30ms/step\n",
      "[[0.9178582]]\n",
      "1\n",
      "#Lightyear To infinity…..and…. BEYOND https://t.co/hCIKG8Ncwt\n",
      "How does Andy watch #Lightyear  and not buy Sox? https://t.co/nrbdbFKItU\n",
      "1/1 [==============================] - 0s 25ms/step\n",
      "[[0.8917448]]\n",
      "1\n",
      "I think Luke would agree his first movie theater experience was a 10/10! #Lightyear https://t.co/SOX1fUkksj\n",
      "1/1 [==============================] - 0s 26ms/step\n",
      "[[0.9990864]]\n",
      "1\n",
      "#Lightyear was amaze balls can’t wait for the sequel! https://t.co/8RV7Ay05RL\n",
      "- is gonna be a Disney+ show like Star Command to continue the movie aaaaah, Id DEFINITELY be tuning in. On another… https://t.co/WPSKoESXob\n",
      "-movies to date I think. OH &amp; again to go against what the critics said, #Lightyear definitely wasn’t made just for… https://t.co/rpFlYwf2ap\n",
      "Ok to continue on my thoughts for #Lightyear I had 0 complaints about the movie, imo it was perfect, &amp; there were s… https://t.co/sYEbUwZ1vl\n",
      "I don’t think #Lightyear is my absolute fave Pixar movie but I throughly enjoyed every minute of it. The animation… https://t.co/aVKYfpXdXo\n",
      "Saw my tio in a Pixar film. Why am I lowk tearin up #Lightyear https://t.co/inqdpQXQ8I\n",
      "1/1 [==============================] - 0s 27ms/step\n"
     ]
    },
    {
     "name": "stderr",
     "output_type": "stream",
     "text": [
      "Unexpected parameter: since\n"
     ]
    },
    {
     "name": "stdout",
     "output_type": "stream",
     "text": [
      "[[0.49700868]]\n",
      "0\n",
      "Seated for a second round of #Lightyear and look what I spotted. Trailer coming very soon I believe. #BlackPanther… https://t.co/fAWhBatZWr\n",
      "Seated for #Lightyear very excited https://t.co/h89BuNNqoS\n",
      "1/1 [==============================] - 0s 31ms/step\n",
      "[[0.6215]]\n",
      "1\n",
      "We took a couple of 7-year-olds to see #Lightyear. The movie isn't great but the kids certainly enjoyed it. The kis… https://t.co/sBf2S8JMmY\n",
      "If #ucanonlypick1 favourite actor/actress from Disney &amp; Pixar's #Lightyear \n",
      "\n",
      "Chris Evans, Keke Palmer, James Brolin… https://t.co/HvXSSVbrCs\n",
      "Bro little kids should not be taken to movie theaters, unless they know how to stop talking! Smh lmao. That’s why m… https://t.co/poxSaPf21z\n",
      "#Lightyear tomorrow night and I can’t even express how excited I am!\n",
      "The only cat I ever want is Sox #Lightyear\n",
      "1/1 [==============================] - 0s 24ms/step\n",
      "[[0.98461986]]\n",
      "1\n",
      "I just saw #Lightyear for the first time. 9/10! Lived up to my incredibly high expectations. Don't go in with the m… https://t.co/d6OpaNHsY0\n",
      "#Lightyear is a lot of fun! Really enjoyed Chris Evans in the role and this is Pixar’s greatest visual film yet! I… https://t.co/bK2FT4N9sD\n",
      "Not gonna lie… the movie was dope..  #Lightyear\n",
      "That way y’all are gonna love #Sox from #Lightyear 🚀\n",
      "I went to go see #Lightyear twice. Cried my eyes out and I kept looking towards my husband and sister way to do the… https://t.co/0NKrEdgdwg\n",
      "PIXAR.\n",
      "#Lightyear \n",
      "PLEASE GIVE US A WOODYS ROUND UP MOVIE\n",
      "\n",
      "JUST A SILLY COWBOY MOVIE\n",
      "\n",
      "P L E A S E https://t.co/JRiVxxanWU\n",
      "1/1 [==============================] - 0s 24ms/step\n"
     ]
    },
    {
     "name": "stderr",
     "output_type": "stream",
     "text": [
      "Unexpected parameter: since\n"
     ]
    },
    {
     "name": "stdout",
     "output_type": "stream",
     "text": [
      "[[1.3447263e-05]]\n",
      "0\n",
      "#Lightyear spoiler no context: https://t.co/c5kMmTmA5p\n",
      "1/1 [==============================] - 0s 16ms/step\n",
      "[[0.8971754]]\n",
      "1\n",
      "Wow. Lightyear was ever better than I’d anticipated! Chris Evans nailed it, the animation was incredible, the story… https://t.co/iLL8X6Pz69\n",
      "i will not be rolling out for #Lightyear im sorry to say shoutout to the buzzheads tho\n",
      "1/1 [==============================] - 0s 27ms/step\n",
      "[[0.00240013]]\n",
      "0\n",
      "Yes I am an adult who spent his money on a Buzz #Lightyear action figure after seeing the movie. https://t.co/EIYdxAIlIn\n",
      "1/1 [==============================] - 0s 25ms/step\n",
      "[[0.00067853]]\n",
      "0\n",
      "Being sick on Father's Day weekend suck ass.\n",
      "\n",
      "Can't spend time with Regan like I want to. Couldn't go see… https://t.co/kvuFgcuIoL\n",
      "@hudabeauty eyeshadow for this buzz lightyear inspired look! 😍 #Lightyear https://t.co/cNS6E3rcau\n",
      "@ChrisEvans with puppies is on the Mister Rogers level of good and pure we all need.  And that may be a pun but it… https://t.co/yaBNSsGvyq\n",
      "With all the straight characters I have been exposed to kissing in #Pixar films I still turned out Gay. Don’t worry… https://t.co/5EaEoHJXg1\n",
      "Lightyear - Movie Review\n",
      "\n",
      "While not a bad film by any means, Terrence thinks #Lightyear doesn't measure up to the s… https://t.co/e0ALfIDgQX\n",
      "Might see #Lightyear tonight. This movie is for millennials. These kids today don’t know nothin about “falling with… https://t.co/hY3MwIsJxV\n",
      "The moral of #Lightyear is fine: if you make plans that don’t come to fruition &amp; your life takes a different course… https://t.co/gZuev0F3fa\n",
      "Just got out of seeing #Lightyear. My mom raised me on Buzz Lightyear, and he's been an integral part of my childho… https://t.co/TiRBRzeeYV\n",
      "Can't wait to see #Lightyear tomorrow!\n",
      "1/1 [==============================] - 0s 27ms/step\n"
     ]
    },
    {
     "name": "stderr",
     "output_type": "stream",
     "text": [
      "Unexpected parameter: since\n"
     ]
    },
    {
     "name": "stdout",
     "output_type": "stream",
     "text": [
      "[[0.9804198]]\n",
      "1\n",
      "Yet in these people’s warped minds stuff like a man kissing a naked 16 year old non-verbal girl on a beach (The Lit… https://t.co/AdVH8EpQZu\n",
      "What's your favorite Pixar movie of all time?\n",
      "\n",
      "#FilmTwitter #ToyStory #Lightyear #Pixar https://t.co/ZE0fDAgBJP\n",
      "1/1 [==============================] - 0s 31ms/step\n",
      "[[0.8826857]]\n",
      "1\n",
      "Saw #Lightyear \n",
      "Made a drawing. https://t.co/cCsqaatOJC\n",
      "1/1 [==============================] - 0s 18ms/step\n",
      "[[0.82613873]]\n",
      "1\n",
      "Get Woke Go Broke!!\n",
      "\n",
      "@PixarsLightyear @Disney @disneyplus @MarvelStudios\n",
      " \n",
      "#MsMarvel #Lightyear #MCU #Pixar… https://t.co/PnkLHPfAhf\n",
      "It’s been 22 years and I can EASILY state that this is still the best Buzz #Lightyear movie out there. https://t.co/5JlnQpVuzQ\n",
      "#Lightyear is fun though will be forgettable, but the moment at the start when Deb said he sounds like George Cloon… https://t.co/FsAWPN4BHM\n",
      "I got my Vic Viper...I mean, the XL-07. 😉 #Lightyear https://t.co/dsywg3KqET\n",
      "Enjoyed #lightyear not the most memorable Pixar film but a good summer romp.\n",
      "1/1 [==============================] - 0s 25ms/step\n",
      "[[0.9999726]]\n",
      "1\n",
      "To infinity and beyond ♾\n",
      "\n",
      "#Lightyear https://t.co/ydwVJfueRo\n",
      "So I saw #Lightyear last night and loved it!\n",
      "\n",
      "If you see it, make sure you stay after the credits because there are… https://t.co/01q10k8dGC\n",
      "#Lightyear  Review https://t.co/6VQ1JnC14L via @YouTube\n",
      "1/1 [==============================] - 0s 24ms/step\n",
      "[[0.97856605]]\n",
      "1\n",
      "#Lightyear with the fam. https://t.co/5tFf2bWGBq\n",
      "1/1 [==============================] - 0s 24ms/step\n",
      "[[0.6215]]\n",
      "1\n",
      "About to see #Lightyear. Will see how this turns out. https://t.co/KYnQDUkZMz\n",
      "1/1 [==============================] - 0s 26ms/step\n"
     ]
    },
    {
     "name": "stderr",
     "output_type": "stream",
     "text": [
      "Unexpected parameter: since\n"
     ]
    },
    {
     "name": "stdout",
     "output_type": "stream",
     "text": [
      "[[0.9987642]]\n",
      "1\n",
      "#Lightyear Open: $55M-ish\n",
      "Average 3-Day Open of a #ToyStory film: $79.4M\n",
      "\n",
      "#PussInBoots Open: $34.1M\n",
      "Average Open of… https://t.co/YrbOwDHd57\n",
      "Took my Buzz Lightyear to #Lightyear. Bravo @AngusMacLane and @Pixar for an epic sci-fi adventure. Loved the nods t… https://t.co/m4Zdg9d09c\n",
      "I don't understand why people are making such a huge deal about the less than 5 seconds of #LGBTQ representation in… https://t.co/Ru4inbFVPg\n",
      "#Lightyear was extremely ...meh. It's like they had to produce a movie and this vanilla thing was the thing they ca… https://t.co/jOQd4nku1S\n",
      "#Lightyear is a sad, strange little movie, and it has my pity\n",
      "1/1 [==============================] - 0s 31ms/step\n",
      "[[0.0017974]]\n",
      "0\n",
      "#Lightyear has been reimagined as a PS1 game in a brand new video from @Hoolopee.\n",
      "\n",
      "https://t.co/8oVc8wpVkX https://t.co/zVbT3Dp0Fk\n",
      "1/1 [==============================] - 0s 30ms/step\n",
      "[[0.79100156]]\n",
      "1\n",
      "Snuck into this party because they have good mirrors\n",
      "\n",
      "#Lightyear https://t.co/TVmCeQoMRp\n",
      "1/1 [==============================] - 0s 29ms/step\n",
      "[[0.09930585]]\n",
      "0\n",
      "If you had no problem with your kids watching beauty and the beast kiss…you should have no problem with 2 women kis… https://t.co/GY9SLkRlCf\n",
      "The narrative that Tim Allen lost the role of Buzz in #Lightyear because of his Conservative values doesn't make an… https://t.co/aaksAmkiOV\n",
      "They were released too close together. #Lightyear would’ve done better around the school holidays season. Money is… https://t.co/FuGpsvln3i\n",
      "Looks like this pedo is going to miss #Lightyear tonight, maybe for the decade.  \n",
      "\n",
      "#DisneyGroomer in Uniform. https://t.co/n23TZeAzDM\n",
      "1/1 [==============================] - 0s 31ms/step\n",
      "[[0.03789034]]\n",
      "0\n",
      "To infinity and beyond! Fun times and a great movie. ⭐⭐⭐⭐ #Lightyear #HarkinsTheaters @ Harkins Arrowhead 18 https://t.co/n4R538G6vF\n",
      "Why was Buzz so hot?!!! 😂\n",
      "Sox was my favorite!!! 🐈😊 #Lightyear\n",
      "Me coming up with a way to make the #Lightyear sequel tie into Buzz Lightyear of Star Command https://t.co/ThwgDlCI0V\n",
      "1/1 [==============================] - 0s 34ms/step\n",
      "[[0.6536369]]\n",
      "1\n",
      "me watching #Lightyear https://t.co/a1aIhD3MMc\n",
      "1/1 [==============================] - 0s 30ms/step\n",
      "[[0.21000466]]\n",
      "0\n",
      "Lightyear (2022)\n",
      "#Lightyear #2022Movies #Poster #Animation #Pixar https://t.co/Y9uwo9w0je\n",
      "1/1 [==============================] - 0s 28ms/step\n",
      "[[0.21729636]]\n",
      "0\n",
      "Met the new Mr. #Lightyear in Tomorrowland! #Disneyland #ToInfinityAndBeyond https://t.co/IygnDozuXj\n",
      "1/1 [==============================] - 0s 38ms/step\n",
      "[[0.8331318]]\n",
      "1\n",
      "A great film &amp; vastly superior to #Lightyear https://t.co/c3u5uAVhGL\n",
      "1/1 [==============================] - 0s 29ms/step\n"
     ]
    },
    {
     "name": "stderr",
     "output_type": "stream",
     "text": [
      "Unexpected parameter: since\n"
     ]
    },
    {
     "name": "stdout",
     "output_type": "stream",
     "text": [
      "[[0.9996364]]\n",
      "1\n",
      "Happy Pride #BuzzLightyear #Lightyear https://t.co/574Mt4rI5Y\n",
      "1/1 [==============================] - 0s 30ms/step\n",
      "[[0.96136236]]\n",
      "1\n",
      "Need to be watching #Lightyear\n",
      "1/1 [==============================] - 0s 30ms/step\n",
      "[[0.17968866]]\n",
      "0\n",
      "Worth the good 11 years before! #ToyStory #Lightyear https://t.co/kJ3AAmchfA\n",
      "1/1 [==============================] - 0s 30ms/step\n",
      "[[0.9923666]]\n",
      "1\n",
      "Just got #home from seeing the new #Lightyear movie with the #family and we all loved it! The movie had a very good… https://t.co/HQPJ3rSW7z\n",
      "Taika Waititi, Keke Palmer and Chis Evans light up the blue carpet at the #Lightyear premiere https://t.co/T0qmeFENLN\n",
      "1/1 [==============================] - 0s 29ms/step\n",
      "[[0.9969051]]\n",
      "1\n",
      "Would you guys like see me do #Lightyear #Roleplay with gear toys videos? \n",
      "Inspired #LGBTQAlly #Pride represent in… https://t.co/WYIoLlAnbv\n",
      "The Pizza Planet truck made an appearance in #Lightyear https://t.co/8vh4cV4z04\n",
      "1/1 [==============================] - 0s 28ms/step\n",
      "[[0.38022107]]\n",
      "0\n",
      "#Lightyear  was everything I wanted it to be and more! I loved this movie so much! It was beautiful and visually st… https://t.co/sej5xZNyzL\n",
      "Movie Review: #Lightyear https://t.co/zROoW0mHHC\n",
      "1/1 [==============================] - 0s 29ms/step\n",
      "[[0.88319016]]\n",
      "1\n",
      "Good. You replace @ofctimallen just bc he’s conservative and push forced woke narrative into a kids film and it bom… https://t.co/eGxxChRQz0\n",
      "Okay, really enjoyed #Lightyear. It wasn't your typical Pixar film and played a lot more like an action film from t… https://t.co/3Tvd8OC8Xx\n",
      "I had to look it up after, but I KNEW I recognized @UzoAduba's voice in #Lightyear! Years of listening to the Venic… https://t.co/eGUFhglTxj\n",
      "#Lightyear itself was MEH. \n",
      "It proports to be the film Andy, the boy from Toy story was obsessed with. \n",
      "No it’s not… https://t.co/xdvO2af6lA\n",
      "Thank you @Disney @Pixar \n",
      "8.5 / 10\n",
      "#Lightyear https://t.co/tkNWgZdDSr\n",
      "1/1 [==============================] - 0s 30ms/step\n"
     ]
    },
    {
     "name": "stderr",
     "output_type": "stream",
     "text": [
      "Unexpected parameter: since\n"
     ]
    },
    {
     "name": "stdout",
     "output_type": "stream",
     "text": [
      "[[0.99577266]]\n",
      "1\n",
      ".@RegalMovies 7pm and there’s 40 people in all 4 lines at the snack counters and no one at the ticket booth or cust… https://t.co/ruemT6gqQU\n",
      "If #Lightyear is a live action movie in the Toy story universe does that mean Chris Evans plays buzz Lightyear in t… https://t.co/CzR1gbCLqP\n",
      "THANK YOU @Pixar for this amazing movie!!!!! My kids loved #Lightyear  SO much, my 3 year old son is the biggest bu… https://t.co/4Z7P98futc\n",
      "TW / / ment  of  pr0sh1pper,  pr0sh1pper  &amp; ment  of  the  word  r@p3  in  the  picture \n",
      "\n",
      "Please... #Lightyear  is… https://t.co/Wl4rBpbTnh\n",
      "In the #ToyStory universe, #Lightyear was a movie released in 1995. It would definitely have a reboot or legacy seq… https://t.co/eYYRod3sSh\n",
      "https://t.co/cJWV8DVvqD My review of #Lightyear starring @PEETSOWN and @ChrisEvans\n",
      "1/1 [==============================] - 0s 29ms/step\n",
      "[[0.9983434]]\n",
      "1\n",
      "Just left the theatre from watching #Lightyear I’ve never felt such nostalgia, not only from growing up watching th… https://t.co/9aYjtlY7MY\n",
      "My thoughts on #Lightyear https://t.co/5eKXfmyS34\n",
      "1/1 [==============================] - 0s 31ms/step\n",
      "[[0.69245785]]\n",
      "1\n",
      "If they wanted to do the Andy's movie push they should've maybe put a little short in the trailer showing Andy's mo… https://t.co/z7aafGS4lc\n",
      "Double feature Saturday at #AMC #Lightyear #TopGunMaverick https://t.co/QFsmL4I8WR\n",
      "1/1 [==============================] - 0s 30ms/step\n",
      "[[0.8931579]]\n",
      "1\n",
      "To infinity...\n",
      "#Lightyear https://t.co/0pVwMkA0Zi\n",
      "1/1 [==============================] - 0s 25ms/step\n",
      "[[0.8529577]]\n",
      "1\n",
      "I really loved #Lightyear. The characters were so diverse and inclusive and I’m really glad that our kid gets to gr… https://t.co/glpppL15Fp\n",
      "#Lightyear started off strong then become an okay movie at best. Felt like they gave up after 20 minutes into story… https://t.co/ds6eEX22LR\n",
      "Buzz Lightyear Makes Special Appearance In Disneyland Show\n",
      "https://t.co/jeXRJJdVu5\n",
      "\n",
      "#Disneyland… https://t.co/n8hw4ePNde\n"
     ]
    }
   ],
   "source": [
    "tweets = get_tweets(key, numberOfTweets)\n",
    "pzt_tweets = [tweet for tweet in tweets if tweet['sentiment'] == 'positive']\n",
    "neg_tweets = [tweet for tweet in tweets if tweet['sentiment'] == 'negative']"
   ]
  },
  {
   "cell_type": "code",
   "execution_count": 47,
   "id": "french-prayer",
   "metadata": {
    "ExecuteTime": {
     "end_time": "2021-06-18T19:06:28.318013Z",
     "start_time": "2021-06-18T19:06:28.297029Z"
    }
   },
   "outputs": [
    {
     "data": {
      "text/plain": [
       "[{'text': 'Do I see Lightyear theaters wait hit Dizz Dizz Plus ?',\n",
       "  'sentiment': 'positive'},\n",
       " {'text': \"Today I 'm going see Lightyear\", 'sentiment': 'positive'},\n",
       " {'text': 'Lightyear better version interstellar Lightyear',\n",
       "  'sentiment': 'positive'},\n",
       " {'text': 'My week free . Anyone want see new Lightyear movie .',\n",
       "  'sentiment': 'positive'},\n",
       " {'text': \"`` I 'm supposed like grandma '' 'No , 're Izzy ! ' shouts little girl audience . Lightyear\",\n",
       "  'sentiment': 'positive'},\n",
       " {'text': 'How Andy watch Lightyear buy Sox ?', 'sentiment': 'positive'},\n",
       " {'text': 'I think Luke would agree first movie theater experience 10/10 ! Lightyear',\n",
       "  'sentiment': 'positive'},\n",
       " {'text': 'Seated Lightyear excited', 'sentiment': 'positive'},\n",
       " {'text': 'The cat I ever want Sox Lightyear', 'sentiment': 'positive'},\n",
       " {'text': 'Lightyear spoiler context :', 'sentiment': 'positive'},\n",
       " {'text': \"Ca n't wait see Lightyear tomorrow !\", 'sentiment': 'positive'},\n",
       " {'text': \"What 's favorite Pixar movie time ? FilmTwitter ToyStory Lightyear Pixar\",\n",
       "  'sentiment': 'positive'},\n",
       " {'text': 'Saw Lightyear Made drawing .', 'sentiment': 'positive'},\n",
       " {'text': 'Enjoyed lightyear memorable Pixar film good summer romp .',\n",
       "  'sentiment': 'positive'},\n",
       " {'text': 'Lightyear Review via', 'sentiment': 'positive'},\n",
       " {'text': 'Lightyear fam .', 'sentiment': 'positive'},\n",
       " {'text': 'About see Lightyear . Will see turns .', 'sentiment': 'positive'},\n",
       " {'text': 'Lightyear reimagined PS1 game brand new video .',\n",
       "  'sentiment': 'positive'},\n",
       " {'text': 'Me coming way make Lightyear sequel tie Buzz Lightyear Star Command',\n",
       "  'sentiment': 'positive'},\n",
       " {'text': 'Met new Mr. Lightyear Tomorrowland ! Disneyland ToInfinityAndBeyond',\n",
       "  'sentiment': 'positive'},\n",
       " {'text': 'A great film & amp ; vastly superior Lightyear',\n",
       "  'sentiment': 'positive'},\n",
       " {'text': 'Happy Pride BuzzLightyear Lightyear', 'sentiment': 'positive'},\n",
       " {'text': 'Worth good 11 years ! ToyStory Lightyear', 'sentiment': 'positive'},\n",
       " {'text': 'Taika Waititi , Keke Palmer Chis Evans light blue carpet Lightyear premiere',\n",
       "  'sentiment': 'positive'},\n",
       " {'text': 'Movie Review : Lightyear', 'sentiment': 'positive'},\n",
       " {'text': 'Thank 8.5 / 10 Lightyear', 'sentiment': 'positive'},\n",
       " {'text': 'My review Lightyear starring', 'sentiment': 'positive'},\n",
       " {'text': 'My thoughts Lightyear', 'sentiment': 'positive'},\n",
       " {'text': 'Double feature Saturday AMC Lightyear TopGunMaverick',\n",
       "  'sentiment': 'positive'},\n",
       " {'text': 'To infinity ... Lightyear', 'sentiment': 'positive'}]"
      ]
     },
     "execution_count": 47,
     "metadata": {},
     "output_type": "execute_result"
    }
   ],
   "source": [
    "pzt_tweets"
   ]
  },
  {
   "cell_type": "code",
   "execution_count": 48,
   "id": "indian-province",
   "metadata": {
    "ExecuteTime": {
     "end_time": "2021-06-18T19:06:28.334005Z",
     "start_time": "2021-06-18T19:06:28.324011Z"
    }
   },
   "outputs": [
    {
     "data": {
      "text/plain": [
       "[{'text': 'Saw tio Pixar film . Why I lowk tearin Lightyear',\n",
       "  'sentiment': 'negative'},\n",
       " {'text': 'PIXAR . Lightyear PLEASE GIVE US A WOODYS ROUND UP MOVIE JUST A SILLY COWBOY MOVIE P L E A S E',\n",
       "  'sentiment': 'negative'},\n",
       " {'text': 'rolling Lightyear im sorry say shoutout buzzheads tho',\n",
       "  'sentiment': 'negative'},\n",
       " {'text': 'Yes I adult spent money Buzz Lightyear action figure seeing movie .',\n",
       "  'sentiment': 'negative'},\n",
       " {'text': 'Lightyear sad , strange little movie , pity',\n",
       "  'sentiment': 'negative'},\n",
       " {'text': 'Snuck party good mirrors Lightyear', 'sentiment': 'negative'},\n",
       " {'text': 'Looks like pedo going miss Lightyear tonight , maybe decade . DisneyGroomer Uniform .',\n",
       "  'sentiment': 'negative'},\n",
       " {'text': 'watching Lightyear', 'sentiment': 'negative'},\n",
       " {'text': 'Lightyear ( 2022 ) Lightyear 2022Movies Poster Animation Pixar',\n",
       "  'sentiment': 'negative'},\n",
       " {'text': 'Need watching Lightyear', 'sentiment': 'negative'},\n",
       " {'text': 'The Pizza Planet truck made appearance Lightyear',\n",
       "  'sentiment': 'negative'}]"
      ]
     },
     "execution_count": 48,
     "metadata": {},
     "output_type": "execute_result"
    }
   ],
   "source": [
    "neg_tweets"
   ]
  },
  {
   "cell_type": "code",
   "execution_count": 49,
   "id": "monthly-chrome",
   "metadata": {
    "ExecuteTime": {
     "end_time": "2021-06-18T19:06:33.204053Z",
     "start_time": "2021-06-18T19:06:33.191063Z"
    }
   },
   "outputs": [
    {
     "name": "stdout",
     "output_type": "stream",
     "text": [
      "Positive tweets percentage: 73.17073170731707 %\n",
      "Negative tweets percentage: 26.829268292682926 %\n"
     ]
    }
   ],
   "source": [
    "print(\"Positive tweets percentage: {} %\".format(percentage(len(pzt_tweets),len(tweets))))\n",
    "print(\"Negative tweets percentage: {} %\".format(percentage(len(neg_tweets),len(tweets))))"
   ]
  },
  {
   "cell_type": "code",
   "execution_count": 50,
   "id": "sticky-strain",
   "metadata": {
    "ExecuteTime": {
     "end_time": "2021-06-18T19:06:35.203729Z",
     "start_time": "2021-06-18T19:06:35.193715Z"
    }
   },
   "outputs": [
    {
     "name": "stdout",
     "output_type": "stream",
     "text": [
      "Positive tweets percentage:  %73.17\n",
      "Negative tweets percentage:  %26.83\n"
     ]
    }
   ],
   "source": [
    "positive_p = percentage(len(pzt_tweets),len(tweets))\n",
    "negative_p = percentage(len(neg_tweets),len(tweets))\n",
    "\n",
    "positive_p = format(positive_p,'.2f')\n",
    "negative_p = format(negative_p,'.2f')\n",
    "\n",
    "print(\"Positive tweets percentage:  %\" + positive_p)\n",
    "print(\"Negative tweets percentage:  %\" + negative_p)"
   ]
  },
  {
   "cell_type": "code",
   "execution_count": 51,
   "id": "matched-governor",
   "metadata": {
    "ExecuteTime": {
     "end_time": "2021-06-18T19:06:36.631220Z",
     "start_time": "2021-06-18T19:06:36.505693Z"
    }
   },
   "outputs": [
    {
     "data": {
      "image/png": "[encoded data removed]",
      "text/plain": [
       "<Figure size 432x288 with 1 Axes>"
      ]
     },
     "metadata": {},
     "output_type": "display_data"
    }
   ],
   "source": [
    "labels = ['Positive ['+str(positive_p)+'%]', 'Negative ['+str(negative_p)+'%]']\n",
    "sizes = [positive_p, negative_p]\n",
    "colors = ['yellowgreen','red']\n",
    "fig, ax = plt.subplots()\n",
    "ax.pie(sizes,labels=labels,startangle=90,colors=colors)\n",
    "plt.title(key + \" \" + \"Analysis of tweets about search movies: \")\n",
    "ax.axis('equal')\n",
    "\n",
    "plt.show()"
   ]
  },
  {
   "cell_type": "code",
   "execution_count": null,
   "id": "enclosed-albert",
   "metadata": {},
   "outputs": [],
   "source": []
  },
  {
   "cell_type": "code",
   "execution_count": null,
   "id": "aquatic-devices",
   "metadata": {},
   "outputs": [],
   "source": []
  },
  {
   "cell_type": "code",
   "execution_count": null,
   "id": "introductory-finnish",
   "metadata": {},
   "outputs": [],
   "source": []
  },
  {
   "cell_type": "code",
   "execution_count": null,
   "id": "unusual-experiment",
   "metadata": {},
   "outputs": [],
   "source": []
  },
  {
   "cell_type": "code",
   "execution_count": null,
   "id": "expected-fundamentals",
   "metadata": {},
   "outputs": [],
   "source": []
  }
 ],
 "metadata": {
  "kernelspec": {
   "display_name": "Python 3 (ipykernel)",
   "language": "python",
   "name": "python3"
  },
  "language_info": {
   "codemirror_mode": {
    "name": "ipython",
    "version": 3
   },
   "file_extension": ".py",
   "mimetype": "text/x-python",
   "name": "python",
   "nbconvert_exporter": "python",
   "pygments_lexer": "ipython3",
   "version": "3.9.7"
  }
 },
 "nbformat": 4,
 "nbformat_minor": 5
}
